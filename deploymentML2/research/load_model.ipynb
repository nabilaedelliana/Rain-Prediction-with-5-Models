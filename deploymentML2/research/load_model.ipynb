{
 "cells": [
  {
   "cell_type": "code",
   "execution_count": 1,
   "metadata": {},
   "outputs": [
    {
     "name": "stdout",
     "output_type": "stream",
     "text": [
      "Collecting scikit-learn==1.0.2"
     ]
    },
    {
     "name": "stderr",
     "output_type": "stream",
     "text": [
      "ERROR: Could not install packages due to an OSError: [WinError 5] Access is denied: 'c:\\\\programdata\\\\anaconda3\\\\lib\\\\site-packages\\\\scikit_learn-0.24.2.dist-info\\\\COPYING'\n",
      "Consider using the `--user` option or check the permissions.\n",
      "\n"
     ]
    },
    {
     "name": "stdout",
     "output_type": "stream",
     "text": [
      "\n",
      "  Using cached scikit_learn-1.0.2-cp39-cp39-win_amd64.whl (7.2 MB)\n",
      "Requirement already satisfied: joblib>=0.11 in c:\\programdata\\anaconda3\\lib\\site-packages (from scikit-learn==1.0.2) (1.1.0)\n",
      "Requirement already satisfied: threadpoolctl>=2.0.0 in c:\\programdata\\anaconda3\\lib\\site-packages (from scikit-learn==1.0.2) (2.2.0)\n",
      "Requirement already satisfied: numpy>=1.14.6 in c:\\programdata\\anaconda3\\lib\\site-packages (from scikit-learn==1.0.2) (1.20.3)\n",
      "Requirement already satisfied: scipy>=1.1.0 in c:\\programdata\\anaconda3\\lib\\site-packages (from scikit-learn==1.0.2) (1.7.1)\n",
      "Installing collected packages: scikit-learn\n",
      "  Attempting uninstall: scikit-learn\n",
      "    Found existing installation: scikit-learn 0.24.2\n",
      "    Uninstalling scikit-learn-0.24.2:\n"
     ]
    }
   ],
   "source": [
    "! pip install -U scikit-learn==1.0.2"
   ]
  },
  {
   "cell_type": "code",
   "execution_count": 1,
   "metadata": {},
   "outputs": [
    {
     "name": "stderr",
     "output_type": "stream",
     "text": [
      "c:\\ProgramData\\Anaconda3\\lib\\site-packages\\sklearn\\base.py:310: UserWarning: Trying to unpickle estimator StandardScaler from version 1.0.2 when using version 0.24.2. This might lead to breaking code or invalid results. Use at your own risk.\n",
      "  warnings.warn(\n",
      "c:\\ProgramData\\Anaconda3\\lib\\site-packages\\sklearn\\base.py:310: UserWarning: Trying to unpickle estimator LinearSVC from version 1.0.2 when using version 0.24.2. This might lead to breaking code or invalid results. Use at your own risk.\n",
      "  warnings.warn(\n",
      "c:\\ProgramData\\Anaconda3\\lib\\site-packages\\sklearn\\base.py:310: UserWarning: Trying to unpickle estimator Pipeline from version 1.0.2 when using version 0.24.2. This might lead to breaking code or invalid results. Use at your own risk.\n",
      "  warnings.warn(\n"
     ]
    }
   ],
   "source": [
    "import pickle\n",
    "\n",
    "with open(\"pipeline_iris.pkl\", 'rb') as f:\n",
    "    model_iris = pickle.load(f)"
   ]
  },
  {
   "cell_type": "code",
   "execution_count": 2,
   "metadata": {},
   "outputs": [
    {
     "data": {
      "text/plain": [
       "array([1], dtype=int64)"
      ]
     },
     "execution_count": 2,
     "metadata": {},
     "output_type": "execute_result"
    }
   ],
   "source": [
    "new_data = [1.3, 0.3, 2., 1.2]\n",
    "res = model_iris.predict([new_data])\n",
    "res"
   ]
  },
  {
   "cell_type": "code",
   "execution_count": 3,
   "metadata": {},
   "outputs": [
    {
     "name": "stderr",
     "output_type": "stream",
     "text": [
      "c:\\ProgramData\\Anaconda3\\lib\\site-packages\\sklearn\\base.py:310: UserWarning: Trying to unpickle estimator SimpleImputer from version 1.0.2 when using version 0.24.2. This might lead to breaking code or invalid results. Use at your own risk.\n",
      "  warnings.warn(\n",
      "c:\\ProgramData\\Anaconda3\\lib\\site-packages\\sklearn\\base.py:310: UserWarning: Trying to unpickle estimator StandardScaler from version 1.0.2 when using version 0.24.2. This might lead to breaking code or invalid results. Use at your own risk.\n",
      "  warnings.warn(\n",
      "c:\\ProgramData\\Anaconda3\\lib\\site-packages\\sklearn\\base.py:310: UserWarning: Trying to unpickle estimator Pipeline from version 1.0.2 when using version 0.24.2. This might lead to breaking code or invalid results. Use at your own risk.\n",
      "  warnings.warn(\n",
      "c:\\ProgramData\\Anaconda3\\lib\\site-packages\\sklearn\\base.py:310: UserWarning: Trying to unpickle estimator OneHotEncoder from version 1.0.2 when using version 0.24.2. This might lead to breaking code or invalid results. Use at your own risk.\n",
      "  warnings.warn(\n",
      "c:\\ProgramData\\Anaconda3\\lib\\site-packages\\sklearn\\base.py:310: UserWarning: Trying to unpickle estimator ColumnTransformer from version 1.0.2 when using version 0.24.2. This might lead to breaking code or invalid results. Use at your own risk.\n",
      "  warnings.warn(\n",
      "c:\\ProgramData\\Anaconda3\\lib\\site-packages\\sklearn\\base.py:310: UserWarning: Trying to unpickle estimator DecisionTreeClassifier from version 1.0.2 when using version 0.24.2. This might lead to breaking code or invalid results. Use at your own risk.\n",
      "  warnings.warn(\n",
      "c:\\ProgramData\\Anaconda3\\lib\\site-packages\\sklearn\\base.py:310: UserWarning: Trying to unpickle estimator RandomForestClassifier from version 1.0.2 when using version 0.24.2. This might lead to breaking code or invalid results. Use at your own risk.\n",
      "  warnings.warn(\n"
     ]
    }
   ],
   "source": [
    "with open(\"final_pipe.pkl\", 'rb') as g:\n",
    "    model_titanic = pickle.load(g)"
   ]
  },
  {
   "cell_type": "code",
   "execution_count": null,
   "metadata": {},
   "outputs": [],
   "source": [
    "import pandas as pd\n",
    "\n",
    "datacol = ['Pclass', 'Sex', 'Age', 'SibSp', 'Parch', 'Fare']\n",
    "new_data = [3, 'male', 21.0, 0, 0, 16.1000]\n",
    "\n",
    "new_data = pd.DataFrame([new_data], columns=datacol)\n",
    "res = model_titanic.predict(new_data)\n",
    "res"
   ]
  },
  {
   "cell_type": "code",
   "execution_count": 7,
   "metadata": {},
   "outputs": [
    {
     "data": {
      "text/plain": [
       "{'Infogempa': {'gempa': [{'Tanggal': '27 Mei 2022',\n",
       "    'Jam': '09:36:06 WIB',\n",
       "    'DateTime': '2022-05-27T02:36:06+00:00',\n",
       "    'Coordinates': '-8.64,127.20',\n",
       "    'Lintang': '8.64 LS',\n",
       "    'Bujur': '127.20 BT',\n",
       "    'Magnitude': '6.5',\n",
       "    'Kedalaman': '104 km',\n",
       "    'Wilayah': 'Pusat gempa berada di laut 85 km BaratDaya Maluku Barat Daya',\n",
       "    'Dirasakan': 'III-IV Alor, II Kupang, IV-V Timor Leste, IV Tiakur, IV Kisar, III Damer'},\n",
       "   {'Tanggal': '27 Mei 2022',\n",
       "    'Jam': '07:38:50 WIB',\n",
       "    'DateTime': '2022-05-27T00:38:50+00:00',\n",
       "    'Coordinates': '-8.16,107.92',\n",
       "    'Lintang': '8.16 LS',\n",
       "    'Bujur': '107.92 BT',\n",
       "    'Magnitude': '4.0',\n",
       "    'Kedalaman': '25 km',\n",
       "    'Wilayah': 'Pusat gempa berada di laut 81 km BaratDaya Pangandaran',\n",
       "    'Dirasakan': 'III Cipatujah, III Pangandaran, III Ciamis, III Karangnunggal, III Cikalong, II Singajaya, II cikajang'},\n",
       "   {'Tanggal': '26 Mei 2022',\n",
       "    'Jam': '23:55:12 WIB',\n",
       "    'DateTime': '2022-05-26T16:55:12+00:00',\n",
       "    'Coordinates': '-0.91,119.94',\n",
       "    'Lintang': '0.91 LS',\n",
       "    'Bujur': '119.94 BT',\n",
       "    'Magnitude': '3.0',\n",
       "    'Kedalaman': '7 km',\n",
       "    'Wilayah': 'Pusat gempa berada di darat 8 km Timur Palu',\n",
       "    'Dirasakan': 'II - III Palu, II - III Sigi'},\n",
       "   {'Tanggal': '26 Mei 2022',\n",
       "    'Jam': '20:53:21 WIB',\n",
       "    'DateTime': '2022-05-26T13:53:21+00:00',\n",
       "    'Coordinates': '4.85,96.06',\n",
       "    'Lintang': '4.85 LU',\n",
       "    'Bujur': '96.06 BT',\n",
       "    'Magnitude': '3.7',\n",
       "    'Kedalaman': '4 km',\n",
       "    'Wilayah': 'Pusat gempa berada di darat 29 km barat daya Kab. Pidie Jaya',\n",
       "    'Dirasakan': 'III Mane Pidie, II Tangse Pidie'},\n",
       "   {'Tanggal': '26 Mei 2022',\n",
       "    'Jam': '03:24:45 WIB',\n",
       "    'DateTime': '2022-05-25T20:24:45+00:00',\n",
       "    'Coordinates': '5.89,95.19',\n",
       "    'Lintang': '5.89 LU',\n",
       "    'Bujur': '95.19 BT',\n",
       "    'Magnitude': '3.1',\n",
       "    'Kedalaman': '2 km',\n",
       "    'Wilayah': 'Pusat gempa berada di laut 14 km BaratDaya Kota Sabang',\n",
       "    'Dirasakan': 'I-II Kota Sabang'},\n",
       "   {'Tanggal': '25 Mei 2022',\n",
       "    'Jam': '22:05:06 WIB',\n",
       "    'DateTime': '2022-05-25T15:05:06+00:00',\n",
       "    'Coordinates': '-4.71,92.67',\n",
       "    'Lintang': '4.71 LS',\n",
       "    'Bujur': '92.67 BT',\n",
       "    'Magnitude': '6.2',\n",
       "    'Kedalaman': '10 km',\n",
       "    'Wilayah': 'Pusat gempa berada di laut 819 km BaratDaya Nias Selatan',\n",
       "    'Dirasakan': 'II - III Nias Selatan'},\n",
       "   {'Tanggal': '25 Mei 2022',\n",
       "    'Jam': '21:15:51 WIB',\n",
       "    'DateTime': '2022-05-25T14:15:51+00:00',\n",
       "    'Coordinates': '-3.38,128.32',\n",
       "    'Lintang': '3.38 LS',\n",
       "    'Bujur': '128.32 BT',\n",
       "    'Magnitude': '2.5',\n",
       "    'Kedalaman': '10 km',\n",
       "    'Wilayah': 'Pusat gempa berada di laut 6 km barat daya Kairatu-Seram Bagian Barat',\n",
       "    'Dirasakan': 'II Kairatu'},\n",
       "   {'Tanggal': '25 Mei 2022',\n",
       "    'Jam': '20:20:49 WIB',\n",
       "    'DateTime': '2022-05-25T13:20:49+00:00',\n",
       "    'Coordinates': '-8.40,118.55',\n",
       "    'Lintang': '8.40 LS',\n",
       "    'Bujur': '118.55 BT',\n",
       "    'Magnitude': '3.6',\n",
       "    'Kedalaman': '10 km',\n",
       "    'Wilayah': 'Pusat gempa berada di darat 17 km timur laut Dompu',\n",
       "    'Dirasakan': 'III Bima, II Dompu'},\n",
       "   {'Tanggal': '25 Mei 2022',\n",
       "    'Jam': '04:18:56 WIB',\n",
       "    'DateTime': '2022-05-24T21:18:56+00:00',\n",
       "    'Coordinates': '-9.50,115.89',\n",
       "    'Lintang': '9.50 LS',\n",
       "    'Bujur': '115.89 BT',\n",
       "    'Magnitude': '4.4',\n",
       "    'Kedalaman': '24 km',\n",
       "    'Wilayah': 'Pusat gempa berada di laut 94 km barat daya Lombok Barat',\n",
       "    'Dirasakan': 'II - III Denpasar, II - III Lombok Barat, II Mataram'},\n",
       "   {'Tanggal': '25 Mei 2022',\n",
       "    'Jam': '04:18:18 WIB',\n",
       "    'DateTime': '2022-05-24T21:18:18+00:00',\n",
       "    'Coordinates': '-5.76,103.73',\n",
       "    'Lintang': '5.76 LS',\n",
       "    'Bujur': '103.73 BT',\n",
       "    'Magnitude': '5.1',\n",
       "    'Kedalaman': '25 km',\n",
       "    'Wilayah': 'Pusat gempa berada di laut 67 km barat daya Pesisir Barat',\n",
       "    'Dirasakan': 'II - III Liwa, II Pringsewu, II Tanggamus'},\n",
       "   {'Tanggal': '23 Mei 2022',\n",
       "    'Jam': '19:32:02 WIB',\n",
       "    'DateTime': '2022-05-23T12:32:02+00:00',\n",
       "    'Coordinates': '-4.61,102.75',\n",
       "    'Lintang': '4.61 LS',\n",
       "    'Bujur': '102.75 BT',\n",
       "    'Magnitude': '4.9',\n",
       "    'Kedalaman': '41 km',\n",
       "    'Wilayah': 'Pusat gempa berada di laut 25 km baratdaya Bengkulu Selatan',\n",
       "    'Dirasakan': 'IV Manna, IV Argamakmur, IV Lampung Barat, III-IV Kepahiang, III-IV Kota Bengkulu'},\n",
       "   {'Tanggal': '23 Mei 2022',\n",
       "    'Jam': '00:38:14 WIB',\n",
       "    'DateTime': '2022-05-22T17:38:14+00:00',\n",
       "    'Coordinates': '-0.48,99.56',\n",
       "    'Lintang': '0.48 LS',\n",
       "    'Bujur': '99.56 BT',\n",
       "    'Magnitude': '4.7',\n",
       "    'Kedalaman': '60 km',\n",
       "    'Wilayah': 'Pusat gempa berada di laut 55 km Baratdaya Lubukbasung',\n",
       "    'Dirasakan': 'III Pasaman Barat, III Lubuk Basung, III Padang, I-II Padang Pariaman'},\n",
       "   {'Tanggal': '21 Mei 2022',\n",
       "    'Jam': '15:29:16 WIB',\n",
       "    'DateTime': '2022-05-21T08:29:16+00:00',\n",
       "    'Coordinates': '-4.61,102.77',\n",
       "    'Lintang': '4.61 LS',\n",
       "    'Bujur': '102.77 BT',\n",
       "    'Magnitude': '4.8',\n",
       "    'Kedalaman': '31 km',\n",
       "    'Wilayah': 'Pusat gempa berada di laut 23 km Barat Daya Bengkulu Selatan',\n",
       "    'Dirasakan': 'II - III Kota Manna, II Kepahiang, II Krui, II Kemiling, II Liwa'},\n",
       "   {'Tanggal': '19 Mei 2022',\n",
       "    'Jam': '22:29:16 WIB',\n",
       "    'DateTime': '2022-05-19T15:29:16+00:00',\n",
       "    'Coordinates': '1.75,126.38',\n",
       "    'Lintang': '1.75 LU',\n",
       "    'Bujur': '126.38 BT',\n",
       "    'Magnitude': '5.5',\n",
       "    'Kedalaman': '10 km',\n",
       "    'Wilayah': 'Pusat gempa berada di laut 141 km baratLaut Halmahera barat',\n",
       "    'Dirasakan': 'III Manado, III Tondano, III Bitung'},\n",
       "   {'Tanggal': '19 Mei 2022',\n",
       "    'Jam': '04:12:08 WIB',\n",
       "    'DateTime': '2022-05-18T21:12:08+00:00',\n",
       "    'Coordinates': '-3.63,128.17',\n",
       "    'Lintang': '3.63 LS',\n",
       "    'Bujur': '128.17 BT',\n",
       "    'Magnitude': '2.9',\n",
       "    'Kedalaman': '10 km',\n",
       "    'Wilayah': 'Pusat gempa berada di darat 7 km Utara Ambon',\n",
       "    'Dirasakan': 'III Ambon'}]}}"
      ]
     },
     "execution_count": 7,
     "metadata": {},
     "output_type": "execute_result"
    }
   ],
   "source": [
    "import requests\n",
    "\n",
    "URL = \"https://data.bmkg.go.id/DataMKG/TEWS/gempadirasakan.json\"\n",
    "r = requests.get(URL)  # GET : menghubungi backend trs muncul informasi\n",
    "\n",
    "# ambil data /collect data\n",
    "data = r.json()\n",
    "data"
   ]
  },
  {
   "cell_type": "markdown",
   "metadata": {},
   "source": [
    "outputnya berupa dictionary, masih susah dibaca. maka akan dilakukan parsing data agar data bisa dibaca lebih mudah."
   ]
  },
  {
   "cell_type": "code",
   "execution_count": null,
   "metadata": {},
   "outputs": [],
   "source": []
  },
  {
   "cell_type": "code",
   "execution_count": 10,
   "metadata": {},
   "outputs": [
    {
     "name": "stdout",
     "output_type": "stream",
     "text": [
      "INFO GEMPA TERBARU\n",
      "Waktu & tangal\t: 09:36:06 WIB, 27 Mei 2022\n",
      "Wilayah\t: Pusat gempa berada di laut 85 km BaratDaya Maluku Barat Daya\n",
      "Kekuatan\t: 6.5 SR\n",
      "===\n",
      "Waktu & tangal\t: 07:38:50 WIB, 27 Mei 2022\n",
      "Wilayah\t: Pusat gempa berada di laut 81 km BaratDaya Pangandaran\n",
      "Kekuatan\t: 4.0 SR\n",
      "===\n",
      "Waktu & tangal\t: 23:55:12 WIB, 26 Mei 2022\n",
      "Wilayah\t: Pusat gempa berada di darat 8 km Timur Palu\n",
      "Kekuatan\t: 3.0 SR\n",
      "===\n",
      "Waktu & tangal\t: 20:53:21 WIB, 26 Mei 2022\n",
      "Wilayah\t: Pusat gempa berada di darat 29 km barat daya Kab. Pidie Jaya\n",
      "Kekuatan\t: 3.7 SR\n",
      "===\n",
      "Waktu & tangal\t: 03:24:45 WIB, 26 Mei 2022\n",
      "Wilayah\t: Pusat gempa berada di laut 14 km BaratDaya Kota Sabang\n",
      "Kekuatan\t: 3.1 SR\n",
      "===\n",
      "Waktu & tangal\t: 22:05:06 WIB, 25 Mei 2022\n",
      "Wilayah\t: Pusat gempa berada di laut 819 km BaratDaya Nias Selatan\n",
      "Kekuatan\t: 6.2 SR\n",
      "===\n",
      "Waktu & tangal\t: 21:15:51 WIB, 25 Mei 2022\n",
      "Wilayah\t: Pusat gempa berada di laut 6 km barat daya Kairatu-Seram Bagian Barat\n",
      "Kekuatan\t: 2.5 SR\n",
      "===\n",
      "Waktu & tangal\t: 20:20:49 WIB, 25 Mei 2022\n",
      "Wilayah\t: Pusat gempa berada di darat 17 km timur laut Dompu\n",
      "Kekuatan\t: 3.6 SR\n",
      "===\n",
      "Waktu & tangal\t: 04:18:56 WIB, 25 Mei 2022\n",
      "Wilayah\t: Pusat gempa berada di laut 94 km barat daya Lombok Barat\n",
      "Kekuatan\t: 4.4 SR\n",
      "===\n",
      "Waktu & tangal\t: 04:18:18 WIB, 25 Mei 2022\n",
      "Wilayah\t: Pusat gempa berada di laut 67 km barat daya Pesisir Barat\n",
      "Kekuatan\t: 5.1 SR\n",
      "===\n",
      "Waktu & tangal\t: 19:32:02 WIB, 23 Mei 2022\n",
      "Wilayah\t: Pusat gempa berada di laut 25 km baratdaya Bengkulu Selatan\n",
      "Kekuatan\t: 4.9 SR\n",
      "===\n",
      "Waktu & tangal\t: 00:38:14 WIB, 23 Mei 2022\n",
      "Wilayah\t: Pusat gempa berada di laut 55 km Baratdaya Lubukbasung\n",
      "Kekuatan\t: 4.7 SR\n",
      "===\n",
      "Waktu & tangal\t: 15:29:16 WIB, 21 Mei 2022\n",
      "Wilayah\t: Pusat gempa berada di laut 23 km Barat Daya Bengkulu Selatan\n",
      "Kekuatan\t: 4.8 SR\n",
      "===\n",
      "Waktu & tangal\t: 22:29:16 WIB, 19 Mei 2022\n",
      "Wilayah\t: Pusat gempa berada di laut 141 km baratLaut Halmahera barat\n",
      "Kekuatan\t: 5.5 SR\n",
      "===\n",
      "Waktu & tangal\t: 04:12:08 WIB, 19 Mei 2022\n",
      "Wilayah\t: Pusat gempa berada di darat 7 km Utara Ambon\n",
      "Kekuatan\t: 2.9 SR\n",
      "===\n"
     ]
    }
   ],
   "source": [
    "# parsing data\n",
    "print('INFO GEMPA TERBARU')\n",
    "for item in data['Infogempa']['gempa']:\n",
    "    print(f\"Waktu & tangal\\t: {item['Jam']}, {item['Tanggal']}\")\n",
    "    print(f\"Wilayah\\t: {item['Wilayah']}\")\n",
    "    print(f\"Kekuatan\\t: {item['Magnitude']} SR\")\n",
    "    print(\"===\")"
   ]
  },
  {
   "cell_type": "markdown",
   "metadata": {},
   "source": [
    "GET : menghubungi backend trs muncul informasi\n",
    "\n",
    "post : frontend mengirim inputan user, lalu dicocokkan dengan data\n",
    "\n",
    "update : mengubah data\n",
    "\n",
    "delete : menghapus apapun"
   ]
  },
  {
   "cell_type": "code",
   "execution_count": 14,
   "metadata": {},
   "outputs": [
    {
     "data": {
      "text/plain": [
       "{'message': 'nama sudah diganti', 'success': True}"
      ]
     },
     "execution_count": 14,
     "metadata": {},
     "output_type": "execute_result"
    }
   ],
   "source": [
    "URL = \"http://127.0.0.1:5000/ganti\"\n",
    "r = requests.get(URL)  # GET : menghubungi backend trs muncul informasi\n",
    "data = {'nama':'Alam'}\n",
    "r = requests.post(URL,json=data)\n",
    "data = r.json()\n",
    "data"
   ]
  }
 ],
 "metadata": {
  "interpreter": {
   "hash": "ad2bdc8ecc057115af97d19610ffacc2b4e99fae6737bb82f5d7fb13d2f2c186"
  },
  "kernelspec": {
   "display_name": "Python 3.9.7 ('base')",
   "language": "python",
   "name": "python3"
  },
  "language_info": {
   "codemirror_mode": {
    "name": "ipython",
    "version": 3
   },
   "file_extension": ".py",
   "mimetype": "text/x-python",
   "name": "python",
   "nbconvert_exporter": "python",
   "pygments_lexer": "ipython3",
   "version": "3.9.7"
  },
  "orig_nbformat": 4
 },
 "nbformat": 4,
 "nbformat_minor": 2
}
